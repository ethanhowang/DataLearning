{
 "cells": [
  {
   "cell_type": "code",
   "execution_count": 1,
   "metadata": {},
   "outputs": [
    {
     "name": "stdout",
     "output_type": "stream",
     "text": [
      "Collecting datasette\n",
      "  Downloading datasette-0.56-py3-none-any.whl (218 kB)\n",
      "Requirement already satisfied: PyYAML~=5.3 in c:\\users\\ethan\\anaconda3\\lib\\site-packages (from datasette) (5.3.1)\n",
      "Collecting asgiref<3.4.0,>=3.2.10\n",
      "  Downloading asgiref-3.3.4-py3-none-any.whl (22 kB)\n",
      "Collecting httpx>=0.17\n",
      "  Downloading httpx-0.18.1-py3-none-any.whl (75 kB)\n",
      "Collecting mergedeep<1.4.0,>=1.1.1\n",
      "  Downloading mergedeep-1.3.4-py3-none-any.whl (6.4 kB)\n",
      "Requirement already satisfied: pluggy~=0.13.0 in c:\\users\\ethan\\anaconda3\\lib\\site-packages (from datasette) (0.13.1)\n",
      "Collecting aiofiles<0.7,>=0.4\n",
      "  Downloading aiofiles-0.6.0-py3-none-any.whl (11 kB)\n",
      "Collecting pint~=0.9\n",
      "  Downloading Pint-0.17-py2.py3-none-any.whl (204 kB)\n",
      "Requirement already satisfied: itsdangerous~=1.1 in c:\\users\\ethan\\anaconda3\\lib\\site-packages (from datasette) (1.1.0)\n",
      "Collecting uvicorn~=0.11\n",
      "  Downloading uvicorn-0.13.4-py3-none-any.whl (46 kB)\n",
      "Collecting python-baseconv==1.2.2\n",
      "  Downloading python-baseconv-1.2.2.tar.gz (4.9 kB)\n",
      "Collecting hupper~=1.9\n",
      "  Downloading hupper-1.10.3-py2.py3-none-any.whl (26 kB)\n",
      "Collecting click-default-group~=1.2.2\n",
      "  Downloading click-default-group-1.2.2.tar.gz (3.3 kB)\n",
      "Requirement already satisfied: Jinja2<2.12.0,>=2.10.3 in c:\\users\\ethan\\anaconda3\\lib\\site-packages (from datasette) (2.11.2)\n",
      "Collecting janus<0.7,>=0.4\n",
      "  Downloading janus-0.6.1-py3-none-any.whl (11 kB)\n",
      "Collecting asgi-csrf>=0.6\n",
      "  Downloading asgi_csrf-0.8-py3-none-any.whl (10 kB)\n",
      "Requirement already satisfied: click~=7.1.1 in c:\\users\\ethan\\anaconda3\\lib\\site-packages (from datasette) (7.1.2)\n",
      "Collecting rfc3986[idna2008]<2,>=1.3\n",
      "  Downloading rfc3986-1.5.0-py2.py3-none-any.whl (31 kB)\n",
      "Collecting sniffio\n",
      "  Downloading sniffio-1.2.0-py3-none-any.whl (10 kB)\n",
      "Requirement already satisfied: certifi in c:\\users\\ethan\\anaconda3\\lib\\site-packages (from httpx>=0.17->datasette) (2020.6.20)\n",
      "Collecting httpcore<0.14.0,>=0.13.0\n",
      "  Downloading httpcore-0.13.3-py3-none-any.whl (57 kB)\n",
      "Requirement already satisfied: packaging in c:\\users\\ethan\\anaconda3\\lib\\site-packages (from pint~=0.9->datasette) (20.4)\n",
      "Collecting h11>=0.8\n",
      "  Downloading h11-0.12.0-py3-none-any.whl (54 kB)\n",
      "Requirement already satisfied: MarkupSafe>=0.23 in c:\\users\\ethan\\anaconda3\\lib\\site-packages (from Jinja2<2.12.0,>=2.10.3->datasette) (1.1.1)\n",
      "Collecting python-multipart\n",
      "  Downloading python-multipart-0.0.5.tar.gz (32 kB)\n",
      "Requirement already satisfied: idna; extra == \"idna2008\" in c:\\users\\ethan\\anaconda3\\lib\\site-packages (from rfc3986[idna2008]<2,>=1.3->httpx>=0.17->datasette) (2.10)\n",
      "Requirement already satisfied: six in c:\\users\\ethan\\anaconda3\\lib\\site-packages (from packaging->pint~=0.9->datasette) (1.15.0)\n",
      "Requirement already satisfied: pyparsing>=2.0.2 in c:\\users\\ethan\\anaconda3\\lib\\site-packages (from packaging->pint~=0.9->datasette) (2.4.7)\n",
      "Building wheels for collected packages: python-baseconv, click-default-group, python-multipart\n",
      "  Building wheel for python-baseconv (setup.py): started\n",
      "  Building wheel for python-baseconv (setup.py): finished with status 'done'\n",
      "  Created wheel for python-baseconv: filename=python_baseconv-1.2.2-py3-none-any.whl size=5502 sha256=85b02f0164becc263563f06798bba6e3a4112517a0ee19c075c402f55a2e239f\n",
      "  Stored in directory: c:\\users\\ethan\\appdata\\local\\pip\\cache\\wheels\\5a\\9d\\e7\\733036bce4db3c7cb862fa87acb47515e2d811b3f2b99bd5d8\n",
      "Note: you may need to restart the kernel to use updated packages.  Building wheel for click-default-group (setup.py): started\n",
      "  Building wheel for click-default-group (setup.py): finished with status 'done'\n",
      "  Created wheel for click-default-group: filename=click_default_group-1.2.2-py3-none-any.whl size=3389 sha256=45ff9eea3b1a0352050401142362cbd731bbe02f90bee176bdb403cbdbd3f827\n",
      "  Stored in directory: c:\\users\\ethan\\appdata\\local\\pip\\cache\\wheels\\7e\\9f\\ec\\d087477ddc7c2807136ca08eb01b5f00e66da90eb4dbf323ab\n",
      "  Building wheel for python-multipart (setup.py): started\n",
      "  Building wheel for python-multipart (setup.py): finished with status 'done'\n",
      "\n",
      "  Created wheel for python-multipart: filename=python_multipart-0.0.5-py3-none-any.whl size=31674 sha256=4b5123b277fb5741bf48749059c4b0d3af7a920f6d9f253c01c5b942158cdc2f\n",
      "  Stored in directory: c:\\users\\ethan\\appdata\\local\\pip\\cache\\wheels\\9e\\fc\\1c\\cf980e6413d3ee8e70cd8f39e2366b0f487e3e221aeb452eb0\n",
      "Successfully built python-baseconv click-default-group python-multipart\n",
      "Installing collected packages: asgiref, rfc3986, sniffio, h11, httpcore, httpx, mergedeep, aiofiles, pint, uvicorn, python-baseconv, hupper, click-default-group, janus, python-multipart, asgi-csrf, datasette\n",
      "Successfully installed aiofiles-0.6.0 asgi-csrf-0.8 asgiref-3.3.4 click-default-group-1.2.2 datasette-0.56 h11-0.12.0 httpcore-0.13.3 httpx-0.18.1 hupper-1.10.3 janus-0.6.1 mergedeep-1.3.4 pint-0.17 python-baseconv-1.2.2 python-multipart-0.0.5 rfc3986-1.5.0 sniffio-1.2.0 uvicorn-0.13.4\n"
     ]
    }
   ],
   "source": [
    "pip install datasette"
   ]
  },
  {
   "cell_type": "code",
   "execution_count": null,
   "metadata": {},
   "outputs": [],
   "source": []
  }
 ],
 "metadata": {
  "kernelspec": {
   "display_name": "Python 3",
   "language": "python",
   "name": "python3"
  },
  "language_info": {
   "codemirror_mode": {
    "name": "ipython",
    "version": 3
   },
   "file_extension": ".py",
   "mimetype": "text/x-python",
   "name": "python",
   "nbconvert_exporter": "python",
   "pygments_lexer": "ipython3",
   "version": "3.8.3"
  }
 },
 "nbformat": 4,
 "nbformat_minor": 4
}
